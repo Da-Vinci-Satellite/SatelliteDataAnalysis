{
 "nbformat": 4,
 "nbformat_minor": 0,
 "metadata": {
  "colab": {
   "provenance": [],
   "toc_visible": true
  },
  "kernelspec": {
   "name": "python3",
   "language": "python",
   "display_name": "Python 3 (ipykernel)"
  },
  "language_info": {
   "name": "python"
  }
 },
 "cells": [
  {
   "cell_type": "markdown",
   "source": [
    "# Opdracht satellietdata analyseren\n",
    "In deze opdracht ga je met échte satellietdata werken om de temperatuurverandering in Bonaire te analyseren. Je gaat met de volgende dataset werken:\n",
    "\n",
    "Muñoz Sabater, J. (2019): ERA5-Land monthly averaged data from 1950 to present. Copernicus Climate Change Service (C3S) Climate Data Store (CDS). DOI: 10.24381/cds.68d2bb30 (Accessed on DD-MMM-YYYY)\n",
    "\n",
    "---\n",
    "Als eerst moeten we de nodige Python-libraries importeren."
   ],
   "metadata": {
    "id": "PhSyDGM5ry2-"
   }
  },
  {
   "cell_type": "code",
   "source": [
    "import cartopy.crs as ccrs\n",
    "import matplotlib.pyplot as plt\n",
    "import numpy as np\n",
    "import xarray as xr\n",
    "\n",
    "YOUR_CODE_HERE = None"
   ],
   "metadata": {
    "colab": {
     "base_uri": "https://localhost:8080/",
     "height": 616
    },
    "id": "nE0n8BPnZrJZ",
    "outputId": "f903a537-d8fb-41a7-9b20-88ebc0dea546"
   },
   "execution_count": null,
   "outputs": []
  },
  {
   "cell_type": "markdown",
   "source": [
    "Dan openen we de dataset."
   ],
   "metadata": {
    "id": "EwQhom9FtIEC"
   }
  },
  {
   "cell_type": "code",
   "source": [
    "ds = xr.open_dataset('data.grib').metpy.parse_cf()\n",
    "ds"
   ],
   "metadata": {
    "id": "H2c3HIcNtGQj"
   },
   "execution_count": null,
   "outputs": []
  },
  {
   "cell_type": "markdown",
   "source": [
    "De temperatuur wordt in `Kelvin` gegeven. Wat moeten we doen met de data om dit naar `Celsius` te veranderen? "
   ],
   "metadata": {
    "id": "QEFXvN08tLpI"
   }
  },
  {
   "cell_type": "code",
   "source": [
    "ds = ds - YOUR_CODE_HERE "
   ],
   "metadata": {
    "id": "JA3vA1PTtYjW"
   },
   "execution_count": null,
   "outputs": []
  },
  {
   "cell_type": "markdown",
   "source": [
    "Laten we een kijkje nemen naar de data. Als je de onderstaande code runt, zal je een kaart zien van Carribisch Nederland."
   ],
   "metadata": {
    "id": "q48DjdNFtdFR"
   }
  },
  {
   "cell_type": "code",
   "source": [
    "fig = plt.figure(figsize=(10, 10))\n",
    "ax = plt.axes(projection=ccrs.Robinson())\n",
    "ax.coastlines(resolution=\"10m\")\n",
    "plot = ds.stl1[0].plot(\n",
    "    cmap=plt.cm.coolwarm, transform=ccrs.PlateCarree(), cbar_kwargs={\"shrink\": 0.6}\n",
    ")\n",
    "\n",
    "plt.title(\"Land Surface Temperature Around the Carribean\")"
   ],
   "metadata": {
    "colab": {
     "base_uri": "https://localhost:8080/",
     "height": 535
    },
    "id": "Am2SBAtba2k5",
    "outputId": "bd0e843f-e535-4c5f-e1eb-aa774a7c74f6"
   },
   "execution_count": null,
   "outputs": []
  },
  {
   "cell_type": "markdown",
   "source": [
    "Kunnen we aan de hand van de bovenstaande kaart de temperatuurverandering door te tijd heen zien? Waarom wel/niet?"
   ],
   "metadata": {
    "id": "tzCBZQEUtpaV"
   }
  },
  {
   "cell_type": "markdown",
   "source": [
    "We gaan nu kijken naar Bonaire specifiek om te temperatuurverandering door de tijd heen te zien. Zoek de latitude en longitude op op google maps en vul die hieronder in:"
   ],
   "metadata": {
    "id": "wRmSHoE4tzdX"
   }
  },
  {
   "cell_type": "code",
   "source": [
    "latitude_bonaire = YOUR_CODE_HERE\n",
    "longitude_bonaire = YOUR_CODE_HERE"
   ],
   "metadata": {
    "id": "hryv2ftsuAI7"
   },
   "execution_count": null,
   "outputs": []
  },
  {
   "cell_type": "markdown",
   "source": [
    "Met deze data kunnen we nu een grafiek maken van de temperatuuur vanaf 1951 tot en met 2022."
   ],
   "metadata": {
    "id": "au4L5kXvuL8U"
   }
  },
  {
   "cell_type": "code",
   "source": [
    "# Step 1: Mask out NaN values\n",
    "valid_data = ds.stl1.where(ds.stl1.notnull(), drop=True)\n",
    "\n",
    "# Step 2: Find the nearest valid point\n",
    "bonaire = valid_data.sel(latitude=latitude_bonaire, longitude=longitude_bonaire, method=\"nearest\")\n",
    "\n",
    "plt.figure(figsize=(10, 6))\n",
    "bonaire.plot(label=\"Temperatuurdata\")\n",
    "plt.xlabel(\"Jaar\")\n",
    "plt.ylabel(\"Temperatuur in Celsius\")\n",
    "plt.title(\"Temperatuurverandering in Bonaire\")\n",
    "plt.legend()\n",
    "plt.show()"
   ],
   "metadata": {
    "colab": {
     "base_uri": "https://localhost:8080/",
     "height": 564
    },
    "id": "05TWWB3IfrbI",
    "outputId": "e343161c-3b53-4583-a19b-d89098f8bb7f"
   },
   "execution_count": null,
   "outputs": []
  },
  {
   "cell_type": "markdown",
   "source": [
    "Hier kunnen we al een beetje een stijging zien in de temperatuur, maar we kunnen een trendlijn toevoegen om dit beter te zien."
   ],
   "metadata": {
    "id": "vAxaTh2aufwM"
   }
  },
  {
   "cell_type": "code",
   "source": [
    "# Convert time to numerical values for regression\n",
    "time_numeric = (ds.time - ds.time[0]) / np.timedelta64(1, 'D')  # Convert time to days since start\n",
    "\n",
    "# Calculate the trend line (linear regression)\n",
    "coefficients = np.polyfit(time_numeric, bonaire, deg=1)  # deg=1 for linear trend\n",
    "trend_line = np.polyval(coefficients, time_numeric)\n",
    "\n",
    "# Add the trend line to the dataset\n",
    "bonaire[\"trend\"] = ((\"time\"), trend_line)\n",
    "\n",
    "plt.figure(figsize=(10, 6))\n",
    "bonaire.plot(label=\"Temperatuurdata\")\n",
    "bonaire.trend.plot(label=\"Trendlijn\", color=\"red\", linewidth=2)\n",
    "plt.xlabel(\"Jaar\")\n",
    "plt.ylabel(\"Temperatuur in Celsius\")\n",
    "plt.title(\"Temperatuurverandering in Bonaire met trendlijn\")\n",
    "plt.legend()\n",
    "plt.show()"
   ],
   "metadata": {
    "colab": {
     "base_uri": "https://localhost:8080/",
     "height": 564
    },
    "id": "LgspfOXDuXPA",
    "outputId": "5576e631-1852-40f2-abcb-3111ba4dd3e9"
   },
   "execution_count": null,
   "outputs": []
  },
  {
   "cell_type": "markdown",
   "source": [
    "De trendlijn laat de stijging wat duidelijker zien. Wel zien we dat de lijn heel ver boven de trendlijn gaat, en dan weer heel ver onder. Laten we inzoomen op een jaar om dit beter te zien. Je mag zelf kiezen welk jaar en dan kan je het hieronder invullen. Als je het leuk vind kun je ook meerdere jaartallen uitproberen!"
   ],
   "metadata": {
    "id": "DQ53yOiSuq5q"
   }
  },
  {
   "cell_type": "code",
   "source": [
    "jaar = YOUR_CODE_HERE\n",
    "\n",
    "# Step 2: Find the nearest valid point\n",
    "time_sliced = bonaire.sel(time=slice(f\"{jaar}-01-01\", f\"{jaar}-12-31\"))\n",
    "\n",
    "time_sliced.plot()\n",
    "plt.title(f\"Temperatuurverandering in {jaar}\")\n",
    "plt.xlabel(\"Maand\")\n",
    "plt.ylabel(\"Temperatuur in Celsius\")\n"
   ],
   "metadata": {
    "colab": {
     "base_uri": "https://localhost:8080/",
     "height": 489
    },
    "id": "lZ6rBmSxmWHd",
    "outputId": "de696b3b-bd55-4c42-8a19-88683631e99f"
   },
   "execution_count": null,
   "outputs": []
  },
  {
   "cell_type": "markdown",
   "source": [
    "Nu dat je hebt ingezoomd op de individuele jaren, verklaar waarom de temperatuur zoveel uitwijkt van de trendlijn"
   ],
   "metadata": {
    "id": "vVJ2nr2ZwAGs"
   }
  },
  {
   "cell_type": "code",
   "execution_count": null,
   "outputs": [],
   "source": [],
   "metadata": {
    "collapsed": false
   }
  }
 ]
}
